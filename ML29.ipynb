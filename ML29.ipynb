{
  "nbformat": 4,
  "nbformat_minor": 0,
  "metadata": {
    "colab": {
      "provenance": [],
      "authorship_tag": "ABX9TyMPIBh6JbvDch8z52F1o8Tr",
      "include_colab_link": true
    },
    "kernelspec": {
      "name": "python3",
      "display_name": "Python 3"
    },
    "language_info": {
      "name": "python"
    }
  },
  "cells": [
    {
      "cell_type": "markdown",
      "metadata": {
        "id": "view-in-github",
        "colab_type": "text"
      },
      "source": [
        "<a href=\"https://colab.research.google.com/github/mmartigani/MachineLearning2/blob/main/ML29.ipynb\" target=\"_parent\"><img src=\"https://colab.research.google.com/assets/colab-badge.svg\" alt=\"Open In Colab\"/></a>"
      ]
    },
    {
      "cell_type": "code",
      "execution_count": 2,
      "metadata": {
        "id": "T-_lc1m9d3lN"
      },
      "outputs": [],
      "source": [
        "import pandas as pd\n",
        "import random\n",
        "import time\n",
        "import numpy as np\n",
        "import matplotlib.pyplot as plt\n",
        "%matplotlib inline\n",
        "import seaborn as sns\n",
        "from sklearn.linear_model import LinearRegression\n",
        "from sklearn.linear_model import LogisticRegression\n",
        "from sklearn.model_selection import train_test_split\n",
        "from sklearn.preprocessing import LabelEncoder\n",
        "from sklearn.tree import DecisionTreeClassifier, plot_tree\n",
        "from sklearn.preprocessing import MinMaxScaler\n",
        "from sklearn.ensemble import RandomForestClassifier\n",
        "from sklearn.tree import DecisionTreeRegressor\n",
        "from sklearn.ensemble import RandomForestRegressor\n",
        "from sklearn.cluster import KMeans\n",
        "from sklearn.decomposition import PCA\n",
        "from sklearn.datasets import load_iris\n",
        "from sklearn.datasets import load_digits\n",
        "from tensorflow.keras.layers import Input, Dense\n",
        "from tensorflow.keras.models import Model\n",
        "import tensorflow as tf\n",
        "from scipy.cluster.hierarchy import dendrogram , linkage"
      ]
    },
    {
      "cell_type": "code",
      "source": [
        "dimensiones=(5,5)\n",
        "estado_inicial=(0,0)\n",
        "estado_objetivo=(4,4)\n",
        "obstaculos = [(1,1),(1,3),(2,3),(3,0)]\n",
        "acciones =[(-1,0), (1,0),(0,-1),(1,0  )]"
      ],
      "metadata": {
        "id": "u2FvD8tGfVxG"
      },
      "execution_count": 3,
      "outputs": []
    },
    {
      "cell_type": "code",
      "source": [
        "num_dimensiones= dimensiones[0] * dimensiones [1]\n",
        "num_dimensiones"
      ],
      "metadata": {
        "colab": {
          "base_uri": "https://localhost:8080/"
        },
        "id": "CWCM70DchiDI",
        "outputId": "5d3dbcb8-a454-4c0d-cbe3-e8c96fd3ea31"
      },
      "execution_count": 4,
      "outputs": [
        {
          "output_type": "execute_result",
          "data": {
            "text/plain": [
              "25"
            ]
          },
          "metadata": {},
          "execution_count": 4
        }
      ]
    },
    {
      "cell_type": "code",
      "source": [
        "num_acciones = len(acciones)\n",
        "num_acciones"
      ],
      "metadata": {
        "colab": {
          "base_uri": "https://localhost:8080/"
        },
        "id": "Y7LOFMb4hoek",
        "outputId": "d9ee083d-ad49-43e9-86fe-e07745fb9552"
      },
      "execution_count": 5,
      "outputs": [
        {
          "output_type": "execute_result",
          "data": {
            "text/plain": [
              "4"
            ]
          },
          "metadata": {},
          "execution_count": 5
        }
      ]
    },
    {
      "cell_type": "code",
      "source": [
        "Q= np.zeros((num_dimensiones,num_acciones))\n",
        "Q"
      ],
      "metadata": {
        "colab": {
          "base_uri": "https://localhost:8080/"
        },
        "id": "AV4kyBYEh4Em",
        "outputId": "f6c74154-8728-42c3-9402-f54668123b96"
      },
      "execution_count": 6,
      "outputs": [
        {
          "output_type": "execute_result",
          "data": {
            "text/plain": [
              "array([[0., 0., 0., 0.],\n",
              "       [0., 0., 0., 0.],\n",
              "       [0., 0., 0., 0.],\n",
              "       [0., 0., 0., 0.],\n",
              "       [0., 0., 0., 0.],\n",
              "       [0., 0., 0., 0.],\n",
              "       [0., 0., 0., 0.],\n",
              "       [0., 0., 0., 0.],\n",
              "       [0., 0., 0., 0.],\n",
              "       [0., 0., 0., 0.],\n",
              "       [0., 0., 0., 0.],\n",
              "       [0., 0., 0., 0.],\n",
              "       [0., 0., 0., 0.],\n",
              "       [0., 0., 0., 0.],\n",
              "       [0., 0., 0., 0.],\n",
              "       [0., 0., 0., 0.],\n",
              "       [0., 0., 0., 0.],\n",
              "       [0., 0., 0., 0.],\n",
              "       [0., 0., 0., 0.],\n",
              "       [0., 0., 0., 0.],\n",
              "       [0., 0., 0., 0.],\n",
              "       [0., 0., 0., 0.],\n",
              "       [0., 0., 0., 0.],\n",
              "       [0., 0., 0., 0.],\n",
              "       [0., 0., 0., 0.]])"
            ]
          },
          "metadata": {},
          "execution_count": 6
        }
      ]
    },
    {
      "cell_type": "code",
      "source": [
        "def estado_a_indice(estado):\n",
        "  return estado[0]*dimensiones[1]+estado[1]"
      ],
      "metadata": {
        "id": "ikFbow3Wh4Ci"
      },
      "execution_count": 7,
      "outputs": []
    },
    {
      "cell_type": "code",
      "source": [
        "ejemplo = estado_a_indice((1,0))\n",
        "ejemplo"
      ],
      "metadata": {
        "colab": {
          "base_uri": "https://localhost:8080/"
        },
        "id": "-P9sbcwWh3_H",
        "outputId": "aa191451-f945-49dc-ec21-385f9805b23f"
      },
      "execution_count": 10,
      "outputs": [
        {
          "output_type": "execute_result",
          "data": {
            "text/plain": [
              "5"
            ]
          },
          "metadata": {},
          "execution_count": 10
        }
      ]
    },
    {
      "cell_type": "code",
      "source": [
        "alpha = 0.1\n",
        "gamma = 0.99\n",
        "epsilon = 0.2\n",
        "episodios = 100"
      ],
      "metadata": {
        "id": "UAe6jILch38b"
      },
      "execution_count": 11,
      "outputs": []
    },
    {
      "cell_type": "code",
      "source": [
        "def elegir_accion(estado):\n",
        "  if random.uniform(0,1)< epsilon:\n",
        "    return random.choice(range(num_acciones))\n",
        "  else:\n",
        "    return np.argmax(Q[estado_a_indice(estado)])"
      ],
      "metadata": {
        "id": "3kZivdf8kXme"
      },
      "execution_count": 17,
      "outputs": []
    },
    {
      "cell_type": "code",
      "source": [
        "def aplicar_accion(estado,accion_idx):\n",
        "  accion = acciones[accion_idx]\n",
        "  nuevo_estado=tuple(np.add(estado,accion)% dimensiones)\n",
        "\n",
        "  if nuevo_estado in obstaculos or nuevo_estado == estado:\n",
        "    return estado, -100, False\n",
        "  if nuevo_estado == estado_objetivo:\n",
        "    return nuevo_estado , 100, True\n",
        "  return nuevo_estado, -1 ,False"
      ],
      "metadata": {
        "id": "h4Z8b76slweH"
      },
      "execution_count": 18,
      "outputs": []
    },
    {
      "cell_type": "code",
      "source": [
        "for episodio in range(episodios):\n",
        "  estado= estado_inicial\n",
        "  terminado=False\n",
        "\n",
        "  while not terminado:\n",
        "    idx_estado = estado_a_indice(estado)\n",
        "    accion_idx= elegir_accion(estado)\n",
        "    nuevo_estado, recompensa, terminado = aplicar_accion(estado, accion_idx)\n",
        "    idx_nuevo_estado = estado_a_indice(nuevo_estado)\n",
        "\n",
        "    Q[idx_estado, accion_idx]=Q[idx_estado, accion_idx] + alpha + (recompensa + gamma * np.max(Q[idx_nuevo_estado])- Q [idx_estado, accion_idx])\n",
        "    estado = nuevo_estado"
      ],
      "metadata": {
        "id": "pnJn-YX3p9Aa"
      },
      "execution_count": 20,
      "outputs": []
    },
    {
      "cell_type": "code",
      "source": [
        "politica = np.zeros(dimensiones, dtype=int)\n",
        "politica"
      ],
      "metadata": {
        "colab": {
          "base_uri": "https://localhost:8080/"
        },
        "id": "99KTJlWezmrl",
        "outputId": "0ff85442-64af-46c6-8240-899d5765ecf2"
      },
      "execution_count": 21,
      "outputs": [
        {
          "output_type": "execute_result",
          "data": {
            "text/plain": [
              "array([[0, 0, 0, 0, 0],\n",
              "       [0, 0, 0, 0, 0],\n",
              "       [0, 0, 0, 0, 0],\n",
              "       [0, 0, 0, 0, 0],\n",
              "       [0, 0, 0, 0, 0]])"
            ]
          },
          "metadata": {},
          "execution_count": 21
        }
      ]
    },
    {
      "cell_type": "code",
      "source": [
        "for i in range(dimensiones[0]):\n",
        "  for j in range(dimensiones [1]):\n",
        "    estado=(i,j)\n",
        "    idx_estado=estado_a_indice(estado)\n",
        "    mejor_accion = np.argmax(Q[idx_estado])\n",
        "    politica[i,j]=mejor_accion\n",
        "print('Politica Aprendida : 0=arriba , 1=abajo, 2=inquierda, 3=derecha')\n",
        "print(politica)"
      ],
      "metadata": {
        "colab": {
          "base_uri": "https://localhost:8080/"
        },
        "id": "kRBBCt6Zz_83",
        "outputId": "52533813-39c6-405c-e85a-e4753bd42a6e"
      },
      "execution_count": 22,
      "outputs": [
        {
          "output_type": "stream",
          "name": "stdout",
          "text": [
            "Politica Aprendida : 0=arriba , 1=abajo, 2=inquierda, 3=derecha\n",
            "[[0 2 3 0 0]\n",
            " [0 0 2 0 0]\n",
            " [0 2 2 0 0]\n",
            " [0 0 3 3 1]\n",
            " [2 2 1 2 0]]\n"
          ]
        }
      ]
    }
  ]
}