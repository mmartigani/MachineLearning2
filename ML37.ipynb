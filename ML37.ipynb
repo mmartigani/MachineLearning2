{
  "nbformat": 4,
  "nbformat_minor": 0,
  "metadata": {
    "colab": {
      "provenance": [],
      "authorship_tag": "ABX9TyPujEkGLqYS4baU92E4jXvv",
      "include_colab_link": true
    },
    "kernelspec": {
      "name": "python3",
      "display_name": "Python 3"
    },
    "language_info": {
      "name": "python"
    }
  },
  "cells": [
    {
      "cell_type": "markdown",
      "metadata": {
        "id": "view-in-github",
        "colab_type": "text"
      },
      "source": [
        "<a href=\"https://colab.research.google.com/github/mmartigani/MachineLearning2/blob/main/ML37.ipynb\" target=\"_parent\"><img src=\"https://colab.research.google.com/assets/colab-badge.svg\" alt=\"Open In Colab\"/></a>"
      ]
    },
    {
      "cell_type": "code",
      "execution_count": 6,
      "metadata": {
        "id": "3OrXXfkPUWn2"
      },
      "outputs": [],
      "source": [
        "import pandas as pd\n",
        "import hashlib\n",
        "import random\n",
        "import uuid\n",
        "import time\n",
        "import numpy as np\n",
        "import matplotlib.pyplot as plt\n",
        "%matplotlib inline\n",
        "import seaborn as sns\n",
        "from sklearn.linear_model import LinearRegression\n",
        "from sklearn.linear_model import LogisticRegression\n",
        "from sklearn.model_selection import train_test_split\n",
        "from sklearn.preprocessing import LabelEncoder\n",
        "from sklearn.tree import DecisionTreeClassifier, plot_tree\n",
        "from sklearn.preprocessing import MinMaxScaler\n",
        "from sklearn.ensemble import RandomForestClassifier\n",
        "from sklearn.tree import DecisionTreeRegressor\n",
        "from sklearn.ensemble import RandomForestRegressor\n",
        "from sklearn.preprocessing import StandardScaler, OneHotEncoder\n",
        "from sklearn.cluster import KMeans\n",
        "from sklearn.decomposition import PCA\n",
        "from sklearn.datasets import load_iris\n",
        "from sklearn.datasets import load_digits\n",
        "from sklearn.utils import resample\n",
        "from sklearn.feature_selection import SelectKBest, SelectFromModel, chi2\n",
        "from tensorflow.keras.layers import Input, Dense\n",
        "from tensorflow.keras.models import Model\n",
        "import tensorflow as tf\n",
        "from scipy.cluster.hierarchy import dendrogram , linkage\n",
        "from keras.datasets import mnist\n",
        "from keras.models import Sequential\n",
        "from keras.layers import Dense, Flatten\n",
        "from keras.utils import to_categorical"
      ]
    },
    {
      "cell_type": "code",
      "source": [
        "data = load_iris()\n",
        "X=data.data\n",
        "y=data.target"
      ],
      "metadata": {
        "id": "sNwRvxwHUeKd"
      },
      "execution_count": 2,
      "outputs": []
    },
    {
      "cell_type": "code",
      "source": [
        "X_entrena, X_prueba, y_entrena, y_prueba=train_test_split(X, y, random_state=42, test_size=0.2)"
      ],
      "metadata": {
        "id": "ZXHCdrnAU2rk"
      },
      "execution_count": 3,
      "outputs": []
    },
    {
      "cell_type": "code",
      "source": [
        "print(\"Tamaño del conjunto total: \", len(X))\n",
        "print(\"Tamaño del conjjunto de entrenamiento: \",len(X_entrena))\n",
        "print(\"Tamaño del conjunto de Prueba: \", len(X_prueba))"
      ],
      "metadata": {
        "colab": {
          "base_uri": "https://localhost:8080/"
        },
        "id": "xLFs8MDjkY2A",
        "outputId": "da175d6c-32cb-4795-baec-782f829cb52f"
      },
      "execution_count": 4,
      "outputs": [
        {
          "output_type": "stream",
          "name": "stdout",
          "text": [
            "Tamaño del conjunto total:  150\n",
            "Tamaño del conjjunto de entrenamiento:  120\n",
            "Tamaño del conjunto de Prueba:  30\n"
          ]
        }
      ]
    },
    {
      "cell_type": "code",
      "source": [
        "selector=SelectKBest(chi2, k=2)\n",
        "k_nuevo=selector.fit_transform(X_entrena, y_entrena)"
      ],
      "metadata": {
        "id": "xHjeHyc5lYbT"
      },
      "execution_count": 7,
      "outputs": []
    },
    {
      "cell_type": "code",
      "source": [
        "print(X_entrena[:5])\n",
        "print(k_nuevo[:5])"
      ],
      "metadata": {
        "colab": {
          "base_uri": "https://localhost:8080/"
        },
        "id": "lMXostk1l7Qb",
        "outputId": "8e4e6955-5f23-498f-e4a7-74f6bb9a7739"
      },
      "execution_count": 8,
      "outputs": [
        {
          "output_type": "stream",
          "name": "stdout",
          "text": [
            "[[4.6 3.6 1.  0.2]\n",
            " [5.7 4.4 1.5 0.4]\n",
            " [6.7 3.1 4.4 1.4]\n",
            " [4.8 3.4 1.6 0.2]\n",
            " [4.4 3.2 1.3 0.2]]\n",
            "[[1.  0.2]\n",
            " [1.5 0.4]\n",
            " [4.4 1.4]\n",
            " [1.6 0.2]\n",
            " [1.3 0.2]]\n"
          ]
        }
      ]
    },
    {
      "cell_type": "code",
      "source": [
        "modelo = RandomForestClassifier(n_estimators=100, random_state=42)\n",
        "selector2=SelectFromModel(modelo)\n",
        "x_importante = selector2.fit_transform(X_entrena, y_entrena)"
      ],
      "metadata": {
        "id": "gEl4Drg-l7Nv"
      },
      "execution_count": 9,
      "outputs": []
    },
    {
      "cell_type": "code",
      "source": [
        "print(X_entrena[:5])\n",
        "print(x_importante[:5])"
      ],
      "metadata": {
        "colab": {
          "base_uri": "https://localhost:8080/"
        },
        "id": "srPcfgv5l7Kr",
        "outputId": "9aa48dc1-9f22-4509-c661-01634d2b029e"
      },
      "execution_count": 10,
      "outputs": [
        {
          "output_type": "stream",
          "name": "stdout",
          "text": [
            "[[4.6 3.6 1.  0.2]\n",
            " [5.7 4.4 1.5 0.4]\n",
            " [6.7 3.1 4.4 1.4]\n",
            " [4.8 3.4 1.6 0.2]\n",
            " [4.4 3.2 1.3 0.2]]\n",
            "[[1.  0.2]\n",
            " [1.5 0.4]\n",
            " [4.4 1.4]\n",
            " [1.6 0.2]\n",
            " [1.3 0.2]]\n"
          ]
        }
      ]
    },
    {
      "cell_type": "code",
      "source": [],
      "metadata": {
        "id": "YhzMEI5yl7GS"
      },
      "execution_count": null,
      "outputs": []
    }
  ]
}