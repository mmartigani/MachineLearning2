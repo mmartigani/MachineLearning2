{
  "nbformat": 4,
  "nbformat_minor": 0,
  "metadata": {
    "colab": {
      "provenance": [],
      "authorship_tag": "ABX9TyO9e9cR5e5AjgOhgb8dc0Eu",
      "include_colab_link": true
    },
    "kernelspec": {
      "name": "python3",
      "display_name": "Python 3"
    },
    "language_info": {
      "name": "python"
    }
  },
  "cells": [
    {
      "cell_type": "markdown",
      "metadata": {
        "id": "view-in-github",
        "colab_type": "text"
      },
      "source": [
        "<a href=\"https://colab.research.google.com/github/mmartigani/MachineLearning2/blob/main/ML4.ipynb\" target=\"_parent\"><img src=\"https://colab.research.google.com/assets/colab-badge.svg\" alt=\"Open In Colab\"/></a>"
      ]
    },
    {
      "cell_type": "code",
      "execution_count": 1,
      "metadata": {
        "colab": {
          "base_uri": "https://localhost:8080/"
        },
        "id": "8o48fIjV0tSg",
        "outputId": "95de5055-0c04-4199-c549-8f10a241aba4"
      },
      "outputs": [
        {
          "output_type": "stream",
          "name": "stdout",
          "text": [
            "1\n",
            "2\n",
            "3\n",
            "4\n",
            "5\n"
          ]
        }
      ],
      "source": [
        "numeros = [1,2,3,4,5]\n",
        "for i in numeros:\n",
        "  print(i)"
      ]
    },
    {
      "cell_type": "code",
      "source": [
        "paises = [\"argentina\", \"argelia\", \"madrid\", \"uk\"]\n",
        "for pais in paises:\n",
        "  if \"a\" in pais:\n",
        "    print(pais)\n"
      ],
      "metadata": {
        "colab": {
          "base_uri": "https://localhost:8080/"
        },
        "id": "gQl8qq-a6png",
        "outputId": "55e0559f-8ef5-4421-8267-276350029518"
      },
      "execution_count": 2,
      "outputs": [
        {
          "output_type": "stream",
          "name": "stdout",
          "text": [
            "argentina\n",
            "argelia\n",
            "madrid\n"
          ]
        }
      ]
    },
    {
      "cell_type": "code",
      "source": [
        "colores = [\"azul\", \"amarillo\", \"rojo\"]\n",
        "prendas = [\"pantalon\", \"zapato\", \"camisa\"]\n",
        "for color in colores:\n",
        "  for prenda in prendas:\n",
        "    print(prenda, color)"
      ],
      "metadata": {
        "colab": {
          "base_uri": "https://localhost:8080/"
        },
        "id": "H552i2Wf6plF",
        "outputId": "bbcef741-83ff-41f6-d763-4f9b6782f25b"
      },
      "execution_count": 4,
      "outputs": [
        {
          "output_type": "stream",
          "name": "stdout",
          "text": [
            "pantalon azul\n",
            "zapato azul\n",
            "camisa azul\n",
            "pantalon amarillo\n",
            "zapato amarillo\n",
            "camisa amarillo\n",
            "pantalon rojo\n",
            "zapato rojo\n",
            "camisa rojo\n"
          ]
        }
      ]
    },
    {
      "cell_type": "code",
      "source": [
        "rango_pares = range(2,21,2)\n",
        "for n in rango_pares:\n",
        "  print(n)"
      ],
      "metadata": {
        "colab": {
          "base_uri": "https://localhost:8080/"
        },
        "id": "J3RezCZB6piV",
        "outputId": "28d98536-3d37-4527-f54a-f83d9f57b77d"
      },
      "execution_count": 5,
      "outputs": [
        {
          "output_type": "stream",
          "name": "stdout",
          "text": [
            "2\n",
            "4\n",
            "6\n",
            "8\n",
            "10\n",
            "12\n",
            "14\n",
            "16\n",
            "18\n",
            "20\n"
          ]
        }
      ]
    },
    {
      "cell_type": "code",
      "source": [
        "suma = 0\n",
        "for numero in range (1,101):\n",
        "  suma += numero\n",
        "print(f\"la suma de los 100 numeros es {suma}\")"
      ],
      "metadata": {
        "colab": {
          "base_uri": "https://localhost:8080/"
        },
        "id": "bR6ESTgr6pff",
        "outputId": "940ea186-e2ac-4b58-bb20-d9d6169f28ed"
      },
      "execution_count": 6,
      "outputs": [
        {
          "output_type": "stream",
          "name": "stdout",
          "text": [
            "la suma de los 100 numeros es 5050\n"
          ]
        }
      ]
    },
    {
      "cell_type": "code",
      "source": [
        "cadena = \"aprendizaje\"\n",
        "for i in range(len(cadena)):\n",
        "  print(f\"indice {i} de la {cadena[i]}\")"
      ],
      "metadata": {
        "colab": {
          "base_uri": "https://localhost:8080/"
        },
        "id": "9SYkKP4V6pcs",
        "outputId": "fad6943d-b55e-47b8-e0eb-93967cbfc254"
      },
      "execution_count": 7,
      "outputs": [
        {
          "output_type": "stream",
          "name": "stdout",
          "text": [
            "indice 0 de la a\n",
            "indice 1 de la p\n",
            "indice 2 de la r\n",
            "indice 3 de la e\n",
            "indice 4 de la n\n",
            "indice 5 de la d\n",
            "indice 6 de la i\n",
            "indice 7 de la z\n",
            "indice 8 de la a\n",
            "indice 9 de la j\n",
            "indice 10 de la e\n"
          ]
        }
      ]
    },
    {
      "cell_type": "code",
      "source": [
        "contador = 1\n",
        "while contador <=10:\n",
        "  print(contador)\n",
        "  contador += 1"
      ],
      "metadata": {
        "colab": {
          "base_uri": "https://localhost:8080/"
        },
        "id": "4-cfBVGs6pZE",
        "outputId": "eafe6009-a4bf-47e8-c4ae-c465e9dc670c"
      },
      "execution_count": 8,
      "outputs": [
        {
          "output_type": "stream",
          "name": "stdout",
          "text": [
            "1\n",
            "2\n",
            "3\n",
            "4\n",
            "5\n",
            "6\n",
            "7\n",
            "8\n",
            "9\n",
            "10\n"
          ]
        }
      ]
    },
    {
      "cell_type": "code",
      "source": [
        "i=0\n",
        "while i <= 15:\n",
        "  if i == 5 or i == 10:\n",
        "    i+=1\n",
        "    continue\n",
        "  print(i)\n",
        "  i+= 1"
      ],
      "metadata": {
        "colab": {
          "base_uri": "https://localhost:8080/"
        },
        "id": "QJhIXStk8kyg",
        "outputId": "9a27000d-10d6-4c02-b9e2-a12a226e526f"
      },
      "execution_count": 9,
      "outputs": [
        {
          "output_type": "stream",
          "name": "stdout",
          "text": [
            "0\n",
            "1\n",
            "2\n",
            "3\n",
            "4\n",
            "6\n",
            "7\n",
            "8\n",
            "9\n",
            "11\n",
            "12\n",
            "13\n",
            "14\n",
            "15\n"
          ]
        }
      ]
    },
    {
      "cell_type": "code",
      "source": [
        "contador = 1\n",
        "while contador >= 1:\n",
        "  print(contador)\n",
        "  if contador % 4 ==0:\n",
        "    break\n",
        "  contador += 1"
      ],
      "metadata": {
        "colab": {
          "base_uri": "https://localhost:8080/"
        },
        "id": "QZNZWYGV8kwJ",
        "outputId": "dbeb4061-6993-4f71-8b60-58f8924c75ce"
      },
      "execution_count": 10,
      "outputs": [
        {
          "output_type": "stream",
          "name": "stdout",
          "text": [
            "1\n",
            "2\n",
            "3\n",
            "4\n"
          ]
        }
      ]
    },
    {
      "cell_type": "code",
      "source": [
        "def mensaje():\n",
        "  print(\"hello word\")\n",
        "mensaje()"
      ],
      "metadata": {
        "colab": {
          "base_uri": "https://localhost:8080/"
        },
        "id": "uy45GU0H8ktD",
        "outputId": "c03e0dd5-6595-43f0-97c1-0dcc39b4f9f4"
      },
      "execution_count": 11,
      "outputs": [
        {
          "output_type": "stream",
          "name": "stdout",
          "text": [
            "hello word\n"
          ]
        }
      ]
    },
    {
      "cell_type": "code",
      "source": [
        "def saludar(nombre):\n",
        "  print(f\"hola {nombre}\")\n",
        "saludar(\"marco\")"
      ],
      "metadata": {
        "colab": {
          "base_uri": "https://localhost:8080/"
        },
        "id": "0Ph-Rean8kqI",
        "outputId": "16382348-0975-4440-ec48-144a3b247910"
      },
      "execution_count": 12,
      "outputs": [
        {
          "output_type": "stream",
          "name": "stdout",
          "text": [
            "hola marco\n"
          ]
        }
      ]
    },
    {
      "cell_type": "code",
      "source": [
        "def solicitar():\n",
        "  nombre = input(\"ingrese su nombre: \")\n",
        "  return nombre\n",
        "def saludar():\n",
        "  nombre=solicitar()\n",
        "  print(f\"hola {nombre}\")\n",
        "saludar()\n"
      ],
      "metadata": {
        "colab": {
          "base_uri": "https://localhost:8080/"
        },
        "id": "ELw7NhSs8klB",
        "outputId": "6856a65c-ddf7-4fb7-f5ba-4a6777b796c9"
      },
      "execution_count": 14,
      "outputs": [
        {
          "output_type": "stream",
          "name": "stdout",
          "text": [
            "ingrese su nombre: marquito\n",
            "hola marquito\n"
          ]
        }
      ]
    },
    {
      "cell_type": "code",
      "source": [
        "def num():\n",
        "  num1=int(input(\"ingrese el primer numero: \"))\n",
        "  num2=int(input(\"ingrese el segundo numero: \"))\n",
        "  return num1, num2\n",
        "num()"
      ],
      "metadata": {
        "colab": {
          "base_uri": "https://localhost:8080/"
        },
        "id": "XppLr6328kiB",
        "outputId": "e19fc9e0-4156-4e0e-adfb-2d14eb7a5f31"
      },
      "execution_count": 15,
      "outputs": [
        {
          "name": "stdout",
          "output_type": "stream",
          "text": [
            "ingrese el primer numero: 7\n",
            "ingrese el segundo numero: 47\n"
          ]
        },
        {
          "output_type": "execute_result",
          "data": {
            "text/plain": [
              "(7, 47)"
            ]
          },
          "metadata": {},
          "execution_count": 15
        }
      ]
    },
    {
      "cell_type": "code",
      "source": [
        "#generador de tablas de multiplicar\n",
        "def generar_tablas(numero, limite):\n",
        "  for n in range( 1, limite +1):\n",
        "    print(f\"{numero} x {n} = {numero * n}\")\n",
        ""
      ],
      "metadata": {
        "id": "2hkq1tvo-1lF"
      },
      "execution_count": 16,
      "outputs": []
    },
    {
      "cell_type": "code",
      "source": [
        "def inicio():\n",
        "  while True:\n",
        "    print(\"\\ngenera la tabla\\n\")\n",
        "    num = int(input(\"ingrese el numero: \"))\n",
        "    lim = int(input(\"cantidad de veces: \"))\n",
        "    generar_tablas(num, lim)\n",
        "    otra= input(\"calcular mas tablas (s/n): \")\n",
        "    if otra != \"s\":\n",
        "      break"
      ],
      "metadata": {
        "id": "VAZl05w4AnVK"
      },
      "execution_count": 19,
      "outputs": []
    },
    {
      "cell_type": "code",
      "source": [
        "inicio()"
      ],
      "metadata": {
        "colab": {
          "base_uri": "https://localhost:8080/"
        },
        "id": "np2Wjt3eBM6V",
        "outputId": "2a94a71f-b290-42fa-b547-3b411b3eff47"
      },
      "execution_count": 20,
      "outputs": [
        {
          "name": "stdout",
          "output_type": "stream",
          "text": [
            "\n",
            "genera la tabla\n",
            "\n",
            "ingrese el numero: 7\n",
            "cantidad de veces: 7\n",
            "7 x 1 = 7\n",
            "7 x 2 = 14\n",
            "7 x 3 = 21\n",
            "7 x 4 = 28\n",
            "7 x 5 = 35\n",
            "7 x 6 = 42\n",
            "7 x 7 = 49\n",
            "calcular mas tablas (s/n): n\n"
          ]
        }
      ]
    }
  ]
}