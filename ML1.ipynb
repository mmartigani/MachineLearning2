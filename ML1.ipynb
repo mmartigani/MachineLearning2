{
  "nbformat": 4,
  "nbformat_minor": 0,
  "metadata": {
    "colab": {
      "provenance": [],
      "authorship_tag": "ABX9TyO53pWR65PWL0Uq5ZU4y42w",
      "include_colab_link": true
    },
    "kernelspec": {
      "name": "python3",
      "display_name": "Python 3"
    },
    "language_info": {
      "name": "python"
    }
  },
  "cells": [
    {
      "cell_type": "markdown",
      "metadata": {
        "id": "view-in-github",
        "colab_type": "text"
      },
      "source": [
        "<a href=\"https://colab.research.google.com/github/mmartigani/MachineLearning2/blob/main/ML1.ipynb\" target=\"_parent\"><img src=\"https://colab.research.google.com/assets/colab-badge.svg\" alt=\"Open In Colab\"/></a>"
      ]
    },
    {
      "cell_type": "code",
      "execution_count": 1,
      "metadata": {
        "id": "ZkshXo_eTai5"
      },
      "outputs": [],
      "source": [
        "#PROGRAMA DE CONVERSION DE DOLARES A EUROS\n",
        "nombre = \"Marco\"\n",
        "fecha = \"21/06/2024\"\n",
        "saludo = \"Buenos Dias\""
      ]
    },
    {
      "cell_type": "code",
      "source": [],
      "metadata": {
        "id": "ExceD-0lUAJn"
      },
      "execution_count": null,
      "outputs": []
    },
    {
      "cell_type": "code",
      "source": [
        "bienvenida = saludo + \" \" + nombre + \" \"+ \"Hoy es : \"+ fecha +\" \" + \"Cotizacion news\"\n",
        "bienvenida"
      ],
      "metadata": {
        "colab": {
          "base_uri": "https://localhost:8080/",
          "height": 35
        },
        "id": "8jB9McrwTuOY",
        "outputId": "2de80781-7e68-45a5-d49c-8bdd791ad470"
      },
      "execution_count": 5,
      "outputs": [
        {
          "output_type": "execute_result",
          "data": {
            "text/plain": [
              "'Buenos Dias Marco Hoy es : 21/06/2024 Cotizacion news'"
            ],
            "application/vnd.google.colaboratory.intrinsic+json": {
              "type": "string"
            }
          },
          "metadata": {},
          "execution_count": 5
        }
      ]
    },
    {
      "cell_type": "code",
      "source": [
        "dolares =210.0\n",
        "dolares"
      ],
      "metadata": {
        "colab": {
          "base_uri": "https://localhost:8080/"
        },
        "id": "UQuXrOgbTuLp",
        "outputId": "a46056d1-e0f8-48ac-8329-4343775b9c43"
      },
      "execution_count": 6,
      "outputs": [
        {
          "output_type": "execute_result",
          "data": {
            "text/plain": [
              "210.0"
            ]
          },
          "metadata": {},
          "execution_count": 6
        }
      ]
    },
    {
      "cell_type": "code",
      "source": [
        "euros = dolares *0.88\n",
        "euros"
      ],
      "metadata": {
        "colab": {
          "base_uri": "https://localhost:8080/"
        },
        "id": "nhYQEWePTuIs",
        "outputId": "977a7fc0-3118-4b29-f7c8-3dabb2540c5a"
      },
      "execution_count": 7,
      "outputs": [
        {
          "output_type": "execute_result",
          "data": {
            "text/plain": [
              "184.8"
            ]
          },
          "metadata": {},
          "execution_count": 7
        }
      ]
    },
    {
      "cell_type": "code",
      "source": [
        "billetes_10 = euros //10\n",
        "billetes_10"
      ],
      "metadata": {
        "colab": {
          "base_uri": "https://localhost:8080/"
        },
        "id": "owZ2MkN2TuGN",
        "outputId": "069c8010-7bb6-4049-9a60-cdc4fa79d859"
      },
      "execution_count": 9,
      "outputs": [
        {
          "output_type": "execute_result",
          "data": {
            "text/plain": [
              "18.0"
            ]
          },
          "metadata": {},
          "execution_count": 9
        }
      ]
    },
    {
      "cell_type": "code",
      "source": [
        "billetes_1=(euros -(billetes_10*10))//1\n",
        "billetes_1"
      ],
      "metadata": {
        "colab": {
          "base_uri": "https://localhost:8080/"
        },
        "id": "x4XI1SyNTuDX",
        "outputId": "e22ad143-3af9-43b4-967c-29c6e4764559"
      },
      "execution_count": 10,
      "outputs": [
        {
          "output_type": "execute_result",
          "data": {
            "text/plain": [
              "4.0"
            ]
          },
          "metadata": {},
          "execution_count": 10
        }
      ]
    },
    {
      "cell_type": "code",
      "source": [
        "monedas = euros %1\n",
        "monedas"
      ],
      "metadata": {
        "colab": {
          "base_uri": "https://localhost:8080/"
        },
        "id": "nj2qbnixTuAD",
        "outputId": "9c77f7d3-8a98-4bc2-eef3-2afc529d0aa5"
      },
      "execution_count": 11,
      "outputs": [
        {
          "output_type": "execute_result",
          "data": {
            "text/plain": [
              "0.8000000000000114"
            ]
          },
          "metadata": {},
          "execution_count": 11
        }
      ]
    },
    {
      "cell_type": "code",
      "source": [
        "print(bienvenida)\n",
        "print(\"\")\n",
        "print(\"cantidad de dolares a cambiar: \")\n",
        "print(dolares)\n",
        "print(\"\")\n",
        "print(\"euros a recibir\")\n",
        "print(euros)\n",
        "print(\"\")\n",
        "print(\"ud va a recibir : \")\n",
        "print(\"billetes de 10 euros\")\n",
        "print(billetes_10)\n",
        "print(\"\")\n",
        "print(\"billetes de 1 euro\")\n",
        "print(billetes_1)\n",
        "print(\"monedas\")\n",
        "print(\"\")\n",
        "print(monedas)\n",
        "print(\"gracias\" + \" \" + nombre + \".\")"
      ],
      "metadata": {
        "colab": {
          "base_uri": "https://localhost:8080/"
        },
        "id": "RQy50h_HTt8D",
        "outputId": "cdf1f630-d78f-4135-d48f-cfc2f6ce620e"
      },
      "execution_count": 14,
      "outputs": [
        {
          "output_type": "stream",
          "name": "stdout",
          "text": [
            "Buenos Dias Marco Hoy es : 21/06/2024 Cotizacion news\n",
            "\n",
            "cantidad de dolares a cambiar: \n",
            "210.0\n",
            "\n",
            "euros a recibir\n",
            "184.8\n",
            "\n",
            "ud va a recibir : \n",
            "billetes de 10 euros\n",
            "18.0\n",
            "\n",
            "billetes de 1 euro\n",
            "4.0\n",
            "monedas\n",
            "\n",
            "0.8000000000000114\n",
            "gracias Marco.\n"
          ]
        }
      ]
    },
    {
      "cell_type": "code",
      "source": [],
      "metadata": {
        "id": "FvoSFGuoTt05"
      },
      "execution_count": null,
      "outputs": []
    }
  ]
}