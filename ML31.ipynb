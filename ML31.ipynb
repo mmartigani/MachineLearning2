{
  "nbformat": 4,
  "nbformat_minor": 0,
  "metadata": {
    "colab": {
      "provenance": [],
      "authorship_tag": "ABX9TyNicrF1Yi09vN4Va1bfM+wV",
      "include_colab_link": true
    },
    "kernelspec": {
      "name": "python3",
      "display_name": "Python 3"
    },
    "language_info": {
      "name": "python"
    }
  },
  "cells": [
    {
      "cell_type": "markdown",
      "metadata": {
        "id": "view-in-github",
        "colab_type": "text"
      },
      "source": [
        "<a href=\"https://colab.research.google.com/github/mmartigani/MachineLearning2/blob/main/ML31.ipynb\" target=\"_parent\"><img src=\"https://colab.research.google.com/assets/colab-badge.svg\" alt=\"Open In Colab\"/></a>"
      ]
    },
    {
      "cell_type": "code",
      "execution_count": 5,
      "metadata": {
        "id": "BguJZrjIm1vk"
      },
      "outputs": [],
      "source": [
        "import pandas as pd\n",
        "import random\n",
        "import time\n",
        "import numpy as np\n",
        "import matplotlib.pyplot as plt\n",
        "%matplotlib inline\n",
        "import seaborn as sns\n",
        "from sklearn.linear_model import LinearRegression\n",
        "from sklearn.linear_model import LogisticRegression\n",
        "from sklearn.model_selection import train_test_split\n",
        "from sklearn.preprocessing import LabelEncoder\n",
        "from sklearn.tree import DecisionTreeClassifier, plot_tree\n",
        "from sklearn.preprocessing import MinMaxScaler\n",
        "from sklearn.ensemble import RandomForestClassifier\n",
        "from sklearn.tree import DecisionTreeRegressor\n",
        "from sklearn.ensemble import RandomForestRegressor\n",
        "from sklearn.cluster import KMeans\n",
        "from sklearn.decomposition import PCA\n",
        "from sklearn.datasets import load_iris\n",
        "from sklearn.datasets import load_digits\n",
        "from tensorflow.keras.layers import Input, Dense\n",
        "from tensorflow.keras.models import Model\n",
        "import tensorflow as tf\n",
        "from scipy.cluster.hierarchy import dendrogram , linkage\n",
        "from keras.datasets import mnist\n",
        "from keras.models import Sequential\n",
        "from keras.layers import Dense, Flatten\n",
        "from keras.utils import to_categorical"
      ]
    },
    {
      "cell_type": "code",
      "source": [
        "(imagenes_entrenamiento, etiquetas_entrenamiento),(imagenes_prueba, etiquetas_prueba)=mnist.load_data()"
      ],
      "metadata": {
        "id": "Dsun8Xlyn1uu"
      },
      "execution_count": 7,
      "outputs": []
    },
    {
      "cell_type": "code",
      "source": [
        "imagenes_entrenamiento= imagenes_entrenamiento /255.0\n",
        "imagenes_prueba = imagenes_prueba / 255.0\n"
      ],
      "metadata": {
        "id": "H_x8iVSFoXiY"
      },
      "execution_count": 8,
      "outputs": []
    },
    {
      "cell_type": "code",
      "source": [
        "etiquetas_entrenamiento[0]"
      ],
      "metadata": {
        "colab": {
          "base_uri": "https://localhost:8080/"
        },
        "id": "LoZrg_ZXoXeN",
        "outputId": "c4d1a4c4-c5e4-46af-d203-096435dbf58c"
      },
      "execution_count": 9,
      "outputs": [
        {
          "output_type": "execute_result",
          "data": {
            "text/plain": [
              "5"
            ]
          },
          "metadata": {},
          "execution_count": 9
        }
      ]
    },
    {
      "cell_type": "code",
      "source": [
        "etiquetas_entrenamiento= to_categorical(etiquetas_entrenamiento)\n",
        "etiquetas_prueba= to_categorical(etiquetas_prueba)"
      ],
      "metadata": {
        "id": "wBgrq8hVoXY1"
      },
      "execution_count": 10,
      "outputs": []
    },
    {
      "cell_type": "code",
      "source": [
        "etiquetas_entrenamiento[0]"
      ],
      "metadata": {
        "colab": {
          "base_uri": "https://localhost:8080/"
        },
        "id": "LUc1aH7ToXV8",
        "outputId": "9252074a-796a-40ea-b22d-60cbb300376c"
      },
      "execution_count": 11,
      "outputs": [
        {
          "output_type": "execute_result",
          "data": {
            "text/plain": [
              "array([0., 0., 0., 0., 0., 1., 0., 0., 0., 0.], dtype=float32)"
            ]
          },
          "metadata": {},
          "execution_count": 11
        }
      ]
    },
    {
      "cell_type": "code",
      "source": [
        "modelo = Sequential([Flatten(input_shape=(28,28)),\n",
        "                     Dense(128, activation='relu'),\n",
        "                     Dense(10, activation='softmax')])"
      ],
      "metadata": {
        "id": "BrVBRcH5oXRL"
      },
      "execution_count": 12,
      "outputs": []
    },
    {
      "cell_type": "code",
      "source": [
        "modelo.compile(optimizer='adam',\n",
        "               loss='categorical_crossentropy',\n",
        "               metrics=['accuracy'])"
      ],
      "metadata": {
        "id": "WE8zXrqcn1p6"
      },
      "execution_count": 13,
      "outputs": []
    },
    {
      "cell_type": "code",
      "source": [
        "modelo.fit(imagenes_entrenamiento,\n",
        "           etiquetas_entrenamiento,\n",
        "           epochs=5,\n",
        "           validation_data=(imagenes_prueba, etiquetas_prueba))"
      ],
      "metadata": {
        "colab": {
          "base_uri": "https://localhost:8080/"
        },
        "id": "Tp-mjqPMn1lt",
        "outputId": "f4085021-174b-4bd9-eec1-725af5f1f608"
      },
      "execution_count": 14,
      "outputs": [
        {
          "output_type": "stream",
          "name": "stdout",
          "text": [
            "Epoch 1/5\n",
            "1875/1875 [==============================] - 11s 5ms/step - loss: 0.2574 - accuracy: 0.9263 - val_loss: 0.1373 - val_accuracy: 0.9596\n",
            "Epoch 2/5\n",
            "1875/1875 [==============================] - 11s 6ms/step - loss: 0.1138 - accuracy: 0.9663 - val_loss: 0.1038 - val_accuracy: 0.9685\n",
            "Epoch 3/5\n",
            "1875/1875 [==============================] - 9s 5ms/step - loss: 0.0769 - accuracy: 0.9763 - val_loss: 0.0833 - val_accuracy: 0.9753\n",
            "Epoch 4/5\n",
            "1875/1875 [==============================] - 9s 5ms/step - loss: 0.0567 - accuracy: 0.9826 - val_loss: 0.0787 - val_accuracy: 0.9751\n",
            "Epoch 5/5\n",
            "1875/1875 [==============================] - 10s 5ms/step - loss: 0.0440 - accuracy: 0.9865 - val_loss: 0.0793 - val_accuracy: 0.9748\n"
          ]
        },
        {
          "output_type": "execute_result",
          "data": {
            "text/plain": [
              "<keras.src.callbacks.History at 0x7c5f3038e3e0>"
            ]
          },
          "metadata": {},
          "execution_count": 14
        }
      ]
    },
    {
      "cell_type": "code",
      "source": [
        "predicciones= modelo.predict(imagenes_prueba)"
      ],
      "metadata": {
        "colab": {
          "base_uri": "https://localhost:8080/"
        },
        "id": "ZB6UaPbS9_fC",
        "outputId": "85eaf359-31f7-4217-abf3-5337bf115d2d"
      },
      "execution_count": 15,
      "outputs": [
        {
          "output_type": "stream",
          "name": "stdout",
          "text": [
            "313/313 [==============================] - 1s 3ms/step\n"
          ]
        }
      ]
    },
    {
      "cell_type": "code",
      "source": [
        "def ver_imagen(array_predicciones,etiqueta_real, img):\n",
        "  etiqueta_real, img = etiqueta_real.argmax(), img.squeeze()\n",
        "  plt.grid(False)\n",
        "  plt.xticks([])\n",
        "  plt.yticks([])\n",
        "  plt.imshow(img, cmap=plt.cm.binary)\n",
        "  etiqueta_predicha = np.argmax(array_predicciones)\n",
        "  if etiqueta_predicha == etiqueta_real:\n",
        "    color = 'blue'\n",
        "  else:\n",
        "    color = 'red'\n",
        "  plt.xlabel(f\"Pred: {etiqueta_predicha} Real: {etiqueta_real}\", color=color)"
      ],
      "metadata": {
        "id": "_mktfybg9_Zq"
      },
      "execution_count": 16,
      "outputs": []
    },
    {
      "cell_type": "code",
      "source": [
        "filas = 5\n",
        "columnas = 3\n",
        "numero_imagenes = filas  * columnas\n",
        "plt.figure(figsize=(2*2*columnas, 2*filas))\n",
        "for i in range(numero_imagenes):\n",
        "  plt.subplot(filas, 2*columnas,2*i+1)\n",
        "  ver_imagen(predicciones[i],etiquetas_prueba[i],imagenes_prueba[i])"
      ],
      "metadata": {
        "colab": {
          "base_uri": "https://localhost:8080/",
          "height": 816
        },
        "id": "nliFWAUh9_UX",
        "outputId": "8786f37c-433a-4fd3-f6fd-0c23d734bd21"
      },
      "execution_count": 18,
      "outputs": [
        {
          "output_type": "display_data",
          "data": {
            "text/plain": [
              "<Figure size 1200x1000 with 15 Axes>"
            ],
            "image/png": "[encoded data removed]"
          },
          "metadata": {}
        }
      ]
    },
    {
      "cell_type": "code",
      "source": [],
      "metadata": {
        "id": "xqilyj1t9_Og"
      },
      "execution_count": null,
      "outputs": []
    },
    {
      "cell_type": "code",
      "source": [],
      "metadata": {
        "id": "PTRr6t1_9_HV"
      },
      "execution_count": null,
      "outputs": []
    }
  ]
}