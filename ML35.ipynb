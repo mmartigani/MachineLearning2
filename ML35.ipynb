{
  "nbformat": 4,
  "nbformat_minor": 0,
  "metadata": {
    "colab": {
      "provenance": [],
      "authorship_tag": "ABX9TyNYNzeke7rLf3L7xdu1Rouk",
      "include_colab_link": true
    },
    "kernelspec": {
      "name": "python3",
      "display_name": "Python 3"
    },
    "language_info": {
      "name": "python"
    }
  },
  "cells": [
    {
      "cell_type": "markdown",
      "metadata": {
        "id": "view-in-github",
        "colab_type": "text"
      },
      "source": [
        "<a href=\"https://colab.research.google.com/github/mmartigani/MachineLearning2/blob/main/ML35.ipynb\" target=\"_parent\"><img src=\"https://colab.research.google.com/assets/colab-badge.svg\" alt=\"Open In Colab\"/></a>"
      ]
    },
    {
      "cell_type": "code",
      "execution_count": 20,
      "metadata": {
        "id": "GckumzWhJy7W"
      },
      "outputs": [],
      "source": [
        "import pandas as pd\n",
        "import hashlib\n",
        "import random\n",
        "import uuid\n",
        "import time\n",
        "import numpy as np\n",
        "import matplotlib.pyplot as plt\n",
        "%matplotlib inline\n",
        "import seaborn as sns\n",
        "from sklearn.linear_model import LinearRegression\n",
        "from sklearn.linear_model import LogisticRegression\n",
        "from sklearn.model_selection import train_test_split\n",
        "from sklearn.preprocessing import LabelEncoder\n",
        "from sklearn.tree import DecisionTreeClassifier, plot_tree\n",
        "from sklearn.preprocessing import MinMaxScaler\n",
        "from sklearn.ensemble import RandomForestClassifier\n",
        "from sklearn.tree import DecisionTreeRegressor\n",
        "from sklearn.ensemble import RandomForestRegressor\n",
        "from sklearn.preprocessing import StandardScaler\n",
        "from sklearn.cluster import KMeans\n",
        "from sklearn.decomposition import PCA\n",
        "from sklearn.datasets import load_iris\n",
        "from sklearn.datasets import load_digits\n",
        "from sklearn.utils import resample\n",
        "from tensorflow.keras.layers import Input, Dense\n",
        "from tensorflow.keras.models import Model\n",
        "import tensorflow as tf\n",
        "from scipy.cluster.hierarchy import dendrogram , linkage\n",
        "from keras.datasets import mnist\n",
        "from keras.models import Sequential\n",
        "from keras.layers import Dense, Flatten\n",
        "from keras.utils import to_categorical"
      ]
    },
    {
      "cell_type": "code",
      "source": [
        "# EN SKLEARN TENEMOS 3 COMPONENTES PRINCIPALES\n",
        "# LOS ESTIMADORES\n",
        "# LOS PREDICTORES\n",
        "# LOS TRANSFORMADORES\n",
        "#cargamos el dataset y lo dividimos entre entrenamiento y prueba\n",
        "data=load_iris()\n",
        "X=data.data\n",
        "y=data.target\n",
        "X_train, X_test, y_train, y_test = train_test_split(X,y, random_state=0, test_size=0.25)\n",
        "#creamos una instancia del escalador\n",
        "scaler=StandardScaler()\n",
        "#estiamdores\n",
        "scaler.fit(X_train)\n",
        "#aplicamos la transformacion de los datos entrenados\n",
        "X_train_escalado = scaler.transform(X_train)\n",
        "X_test_escalado =  scaler.transform(X_test)\n",
        "#creamos una instancia del modelo\n",
        "modelo = LogisticRegression()\n",
        "#estimador entrenamos el modelo con los datos escalados\n",
        "modelo.fit(X_train_escalado,y_train)\n",
        "y_pred= modelo.predict(X_test_escalado)\n",
        "puntaje= modelo.score(X_test_escalado, y_test)\n",
        "print(f\"las predicciones son : {y_pred}\")\n",
        "print(f\"Las precision es : {puntaje:.2f}\")"
      ],
      "metadata": {
        "colab": {
          "base_uri": "https://localhost:8080/"
        },
        "id": "2UztxfkvLNPG",
        "outputId": "133bff08-833e-4683-8ffd-6cd44224d92f"
      },
      "execution_count": 21,
      "outputs": [
        {
          "output_type": "stream",
          "name": "stdout",
          "text": [
            "las predicciones son : [2 1 0 2 0 2 0 1 1 1 2 1 1 1 1 0 1 1 0 0 2 1 0 0 2 0 0 1 1 0 2 1 0 2 2 1 0\n",
            " 2]\n",
            "Las precision es : 0.97\n"
          ]
        }
      ]
    }
  ]
}