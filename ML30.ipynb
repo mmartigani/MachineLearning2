{
  "nbformat": 4,
  "nbformat_minor": 0,
  "metadata": {
    "colab": {
      "provenance": [],
      "authorship_tag": "ABX9TyOzgd12FTr90HYlBqmJk3Xt",
      "include_colab_link": true
    },
    "kernelspec": {
      "name": "python3",
      "display_name": "Python 3"
    },
    "language_info": {
      "name": "python"
    }
  },
  "cells": [
    {
      "cell_type": "markdown",
      "metadata": {
        "id": "view-in-github",
        "colab_type": "text"
      },
      "source": [
        "<a href=\"https://colab.research.google.com/github/mmartigani/MachineLearning2/blob/main/ML30.ipynb\" target=\"_parent\"><img src=\"https://colab.research.google.com/assets/colab-badge.svg\" alt=\"Open In Colab\"/></a>"
      ]
    },
    {
      "cell_type": "code",
      "execution_count": 1,
      "metadata": {
        "id": "sWPXmfXR2FGz"
      },
      "outputs": [],
      "source": [
        "import pandas as pd\n",
        "import random\n",
        "import time\n",
        "import numpy as np\n",
        "import matplotlib.pyplot as plt\n",
        "%matplotlib inline\n",
        "import seaborn as sns\n",
        "from sklearn.linear_model import LinearRegression\n",
        "from sklearn.linear_model import LogisticRegression\n",
        "from sklearn.model_selection import train_test_split\n",
        "from sklearn.preprocessing import LabelEncoder\n",
        "from sklearn.tree import DecisionTreeClassifier, plot_tree\n",
        "from sklearn.preprocessing import MinMaxScaler\n",
        "from sklearn.ensemble import RandomForestClassifier\n",
        "from sklearn.tree import DecisionTreeRegressor\n",
        "from sklearn.ensemble import RandomForestRegressor\n",
        "from sklearn.cluster import KMeans\n",
        "from sklearn.decomposition import PCA\n",
        "from sklearn.datasets import load_iris\n",
        "from sklearn.datasets import load_digits\n",
        "from tensorflow.keras.layers import Input, Dense\n",
        "from tensorflow.keras.models import Model\n",
        "import tensorflow as tf\n",
        "from scipy.cluster.hierarchy import dendrogram , linkage"
      ]
    },
    {
      "cell_type": "code",
      "source": [
        "#SARSA"
      ],
      "metadata": {
        "id": "S_prDdUdcs2-"
      },
      "execution_count": 14,
      "outputs": []
    },
    {
      "cell_type": "code",
      "source": [
        "dimensiones = (4,4)\n",
        "estado_inicial = (0,0)\n",
        "estado_objetivo = (3,3)\n",
        "acciones = [(0,-1),(0,1),(-1,0),(1,0)]\n",
        "acciones_simbolos= ['↑','↓','←','→']"
      ],
      "metadata": {
        "id": "HBGXjlH_WkLA"
      },
      "execution_count": 5,
      "outputs": []
    },
    {
      "cell_type": "code",
      "source": [
        "num_estados = dimensiones[0] * dimensiones[1]\n",
        "num_estados"
      ],
      "metadata": {
        "colab": {
          "base_uri": "https://localhost:8080/"
        },
        "id": "AnxL0-OwWkBj",
        "outputId": "9d8bb04d-7fde-46c0-d5cd-c37c37bd53f0"
      },
      "execution_count": 6,
      "outputs": [
        {
          "output_type": "execute_result",
          "data": {
            "text/plain": [
              "16"
            ]
          },
          "metadata": {},
          "execution_count": 6
        }
      ]
    },
    {
      "cell_type": "code",
      "source": [
        "num_acciones=len(acciones)\n",
        "num_acciones"
      ],
      "metadata": {
        "colab": {
          "base_uri": "https://localhost:8080/"
        },
        "id": "kQVMAPsCZD3J",
        "outputId": "cd7fe3d2-5209-49d3-e7fd-f02bdcb08938"
      },
      "execution_count": 7,
      "outputs": [
        {
          "output_type": "execute_result",
          "data": {
            "text/plain": [
              "4"
            ]
          },
          "metadata": {},
          "execution_count": 7
        }
      ]
    },
    {
      "cell_type": "code",
      "source": [
        "Q=np.zeros((num_estados, num_acciones))\n",
        "Q"
      ],
      "metadata": {
        "colab": {
          "base_uri": "https://localhost:8080/"
        },
        "id": "hsLrNjhsWj2G",
        "outputId": "686635a6-d7e8-485e-f7c4-f212afb6ecc2"
      },
      "execution_count": 8,
      "outputs": [
        {
          "output_type": "execute_result",
          "data": {
            "text/plain": [
              "array([[0., 0., 0., 0.],\n",
              "       [0., 0., 0., 0.],\n",
              "       [0., 0., 0., 0.],\n",
              "       [0., 0., 0., 0.],\n",
              "       [0., 0., 0., 0.],\n",
              "       [0., 0., 0., 0.],\n",
              "       [0., 0., 0., 0.],\n",
              "       [0., 0., 0., 0.],\n",
              "       [0., 0., 0., 0.],\n",
              "       [0., 0., 0., 0.],\n",
              "       [0., 0., 0., 0.],\n",
              "       [0., 0., 0., 0.],\n",
              "       [0., 0., 0., 0.],\n",
              "       [0., 0., 0., 0.],\n",
              "       [0., 0., 0., 0.],\n",
              "       [0., 0., 0., 0.]])"
            ]
          },
          "metadata": {},
          "execution_count": 8
        }
      ]
    },
    {
      "cell_type": "code",
      "source": [
        "alpha = 0.1\n",
        "gamma = 0.99\n",
        "epsilon = 0.2\n",
        "episodios = 1000"
      ],
      "metadata": {
        "id": "WoXYBhfEZhvE"
      },
      "execution_count": 9,
      "outputs": []
    },
    {
      "cell_type": "code",
      "source": [
        "def estado_a_indice(estado):\n",
        "  return estado[0] * dimensiones [1] + estado[1]"
      ],
      "metadata": {
        "id": "GEjk03HaaH4P"
      },
      "execution_count": 10,
      "outputs": []
    },
    {
      "cell_type": "code",
      "source": [
        "estado_a_indice((3,0))"
      ],
      "metadata": {
        "colab": {
          "base_uri": "https://localhost:8080/"
        },
        "id": "VX2RYF04aHzn",
        "outputId": "5d7adac1-3650-416f-f405-226ea2d4102e"
      },
      "execution_count": 11,
      "outputs": [
        {
          "output_type": "execute_result",
          "data": {
            "text/plain": [
              "12"
            ]
          },
          "metadata": {},
          "execution_count": 11
        }
      ]
    },
    {
      "cell_type": "code",
      "source": [
        "def elegir_accion(estado):\n",
        "  if random.uniform(0,1) < epsilon:\n",
        "    return random.randint(0, num_acciones -1)\n",
        "  else:\n",
        "    return np.argmax(Q[estado_a_indice(estado)])"
      ],
      "metadata": {
        "id": "8fAEnUeeaHqn"
      },
      "execution_count": 12,
      "outputs": []
    },
    {
      "cell_type": "code",
      "source": [
        "def aplicar_accion(estado,accion_idx):\n",
        "  accion = acciones[accion_idx]\n",
        "  nuevo_estado = tuple(np.add(estado, accion)% np.array(dimensiones))\n",
        "\n",
        "  if nuevo_estado == estado_objetivo:\n",
        "    recompensa = 1\n",
        "  else:\n",
        "    recompensa = -1\n",
        "  return nuevo_estado,recompensa,nuevo_estado == estado_objetivo"
      ],
      "metadata": {
        "id": "rNUPve-fbn1-"
      },
      "execution_count": 13,
      "outputs": []
    },
    {
      "cell_type": "code",
      "source": [
        "for episodio in range(episodios):\n",
        "  estado = estado_inicial\n",
        "  accion_idx = elegir_accion(estado)\n",
        "  terminado=False\n",
        "\n",
        "  while not terminado :\n",
        "    nuevo_estado, recompensa, terminado=aplicar_accion(estado,accion_idx)\n",
        "    nueva_accion_idx = elegir_accion(nuevo_estado)\n",
        "    indice= estado_a_indice(estado)\n",
        "    Q[indice, accion_idx]+= alpha * (recompensa + gamma *Q[estado_a_indice(nuevo_estado),nueva_accion_idx]- Q[indice,accion_idx])\n",
        "    estado, accion_idx=nuevo_estado, nueva_accion_idx"
      ],
      "metadata": {
        "id": "KmSWvkg1cj7n"
      },
      "execution_count": 15,
      "outputs": []
    },
    {
      "cell_type": "code",
      "source": [
        "politica_simbolos=np.empty(dimensiones, dtype='<U2')\n",
        "politica_simbolos"
      ],
      "metadata": {
        "colab": {
          "base_uri": "https://localhost:8080/"
        },
        "id": "UQncOWQnfICB",
        "outputId": "1f05b0b3-67e2-4ec9-9c3a-7104e5b593b0"
      },
      "execution_count": 16,
      "outputs": [
        {
          "output_type": "execute_result",
          "data": {
            "text/plain": [
              "array([['', '', '', ''],\n",
              "       ['', '', '', ''],\n",
              "       ['', '', '', ''],\n",
              "       ['', '', '', '']], dtype='<U2')"
            ]
          },
          "metadata": {},
          "execution_count": 16
        }
      ]
    },
    {
      "cell_type": "code",
      "source": [
        "for i in range(dimensiones[0]):\n",
        "  for j in range(dimensiones[1]):\n",
        "    estado =(i,j)\n",
        "    mejor_accion = np.argmax(Q[estado_a_indice(estado)])\n",
        "    politica_simbolos[i,j]= acciones_simbolos[mejor_accion]\n",
        "politica_simbolos\n"
      ],
      "metadata": {
        "colab": {
          "base_uri": "https://localhost:8080/"
        },
        "id": "3ZhcGuW7fH7B",
        "outputId": "2a130ad3-b28b-44e9-c8ef-545807e8e6c8"
      },
      "execution_count": 17,
      "outputs": [
        {
          "output_type": "execute_result",
          "data": {
            "text/plain": [
              "array([['←', '↓', '↓', '←'],\n",
              "       ['↑', '↓', '↓', '←'],\n",
              "       ['→', '→', '→', '→'],\n",
              "       ['↑', '↓', '↓', '↑']], dtype='<U2')"
            ]
          },
          "metadata": {},
          "execution_count": 17
        }
      ]
    },
    {
      "cell_type": "code",
      "source": [],
      "metadata": {
        "id": "xL-rjTAzfJNV"
      },
      "execution_count": null,
      "outputs": []
    },
    {
      "cell_type": "code",
      "source": [],
      "metadata": {
        "id": "8Cf49m0cfJKP"
      },
      "execution_count": null,
      "outputs": []
    },
    {
      "cell_type": "code",
      "source": [],
      "metadata": {
        "id": "x9tyBtxsfJFj"
      },
      "execution_count": null,
      "outputs": []
    },
    {
      "cell_type": "code",
      "source": [],
      "metadata": {
        "id": "NDWj53cvfJCg"
      },
      "execution_count": null,
      "outputs": []
    },
    {
      "cell_type": "code",
      "source": [],
      "metadata": {
        "id": "GaoVh74QfI_r"
      },
      "execution_count": null,
      "outputs": []
    },
    {
      "cell_type": "code",
      "source": [],
      "metadata": {
        "id": "3LVUjhGLfH1k"
      },
      "execution_count": null,
      "outputs": []
    }
  ]
}