{
  "nbformat": 4,
  "nbformat_minor": 0,
  "metadata": {
    "colab": {
      "provenance": [],
      "authorship_tag": "ABX9TyOTJkCLkPzQwVxtLdElXX81",
      "include_colab_link": true
    },
    "kernelspec": {
      "name": "python3",
      "display_name": "Python 3"
    },
    "language_info": {
      "name": "python"
    }
  },
  "cells": [
    {
      "cell_type": "markdown",
      "metadata": {
        "id": "view-in-github",
        "colab_type": "text"
      },
      "source": [
        "<a href=\"https://colab.research.google.com/github/mmartigani/MachineLearning2/blob/main/ML3.ipynb\" target=\"_parent\"><img src=\"https://colab.research.google.com/assets/colab-badge.svg\" alt=\"Open In Colab\"/></a>"
      ]
    },
    {
      "cell_type": "code",
      "execution_count": 1,
      "metadata": {
        "colab": {
          "base_uri": "https://localhost:8080/"
        },
        "id": "Ulxxt6gdvVMQ",
        "outputId": "dba639d0-5d3e-4f4e-a1df-a316fd7c4d73"
      },
      "outputs": [
        {
          "output_type": "stream",
          "name": "stdout",
          "text": [
            "españa\n",
            "argentina\n"
          ]
        }
      ],
      "source": [
        "cuidades = [\"españa\", \"tokio\", \"paris\", \"sidney\", \"argentina\"]\n",
        "print(cuidades[0])\n",
        "print(cuidades[-1])"
      ]
    },
    {
      "cell_type": "code",
      "source": [
        "numeros = [1,2,3,4,5]\n",
        "print(numeros)"
      ],
      "metadata": {
        "colab": {
          "base_uri": "https://localhost:8080/"
        },
        "id": "8f92IRlu0b26",
        "outputId": "2fc2ef0e-a687-4956-8500-e5eee1a825ef"
      },
      "execution_count": 2,
      "outputs": [
        {
          "output_type": "stream",
          "name": "stdout",
          "text": [
            "[1, 2, 3, 4, 5]\n"
          ]
        }
      ]
    },
    {
      "cell_type": "code",
      "source": [
        "numeros.append(6)\n",
        "print(numeros)"
      ],
      "metadata": {
        "colab": {
          "base_uri": "https://localhost:8080/"
        },
        "id": "7bJHo29q0iAt",
        "outputId": "53eb9ce6-6130-4e00-90f6-569268d59579"
      },
      "execution_count": 4,
      "outputs": [
        {
          "output_type": "stream",
          "name": "stdout",
          "text": [
            "[1, 2, 3, 4, 5, 6, 6]\n"
          ]
        }
      ]
    },
    {
      "cell_type": "code",
      "source": [
        "numeros.pop(0)\n",
        "print(numeros)"
      ],
      "metadata": {
        "colab": {
          "base_uri": "https://localhost:8080/"
        },
        "id": "xE4smUTv0rR5",
        "outputId": "cfda1800-fa95-46da-83db-1bd2b2464cec"
      },
      "execution_count": 5,
      "outputs": [
        {
          "output_type": "stream",
          "name": "stdout",
          "text": [
            "[2, 3, 4, 5, 6, 6]\n"
          ]
        }
      ]
    },
    {
      "cell_type": "code",
      "source": [
        "numeros.insert(1,7)\n",
        "print(numeros)"
      ],
      "metadata": {
        "colab": {
          "base_uri": "https://localhost:8080/"
        },
        "id": "BrOnMVQD0yv7",
        "outputId": "46947e34-43c0-4d38-8fdf-7012db38d817"
      },
      "execution_count": 6,
      "outputs": [
        {
          "output_type": "stream",
          "name": "stdout",
          "text": [
            "[2, 7, 3, 4, 5, 6, 6]\n"
          ]
        }
      ]
    },
    {
      "cell_type": "code",
      "source": [
        "numeros.sort()\n",
        "print(numeros)"
      ],
      "metadata": {
        "colab": {
          "base_uri": "https://localhost:8080/"
        },
        "id": "nj353npp0ytS",
        "outputId": "56b1e5bf-4eae-486f-ffab-cc90c182c5c0"
      },
      "execution_count": 7,
      "outputs": [
        {
          "output_type": "stream",
          "name": "stdout",
          "text": [
            "[2, 3, 4, 5, 6, 6, 7]\n"
          ]
        }
      ]
    },
    {
      "cell_type": "code",
      "source": [
        "lista1 = [1,2,3]\n",
        "lista2 = [4,5,6]\n",
        "combinada = lista1 + lista2\n",
        "print(combinada)"
      ],
      "metadata": {
        "colab": {
          "base_uri": "https://localhost:8080/"
        },
        "id": "bS6vR8q30yqv",
        "outputId": "9c2cf85c-f59e-4e68-85b6-8330e3ab615f"
      },
      "execution_count": 8,
      "outputs": [
        {
          "output_type": "stream",
          "name": "stdout",
          "text": [
            "[1, 2, 3, 4, 5, 6]\n"
          ]
        }
      ]
    },
    {
      "cell_type": "code",
      "source": [
        "repetida= lista1 *3\n",
        "print(repetida)"
      ],
      "metadata": {
        "colab": {
          "base_uri": "https://localhost:8080/"
        },
        "id": "hrrcn5o50yoV",
        "outputId": "a2fa8a6d-15a0-4f02-a930-6cc137dacfa7"
      },
      "execution_count": 9,
      "outputs": [
        {
          "output_type": "stream",
          "name": "stdout",
          "text": [
            "[1, 2, 3, 1, 2, 3, 1, 2, 3]\n"
          ]
        }
      ]
    },
    {
      "cell_type": "code",
      "source": [
        "sublista=combinada[1:4]\n",
        "print(sublista)"
      ],
      "metadata": {
        "colab": {
          "base_uri": "https://localhost:8080/"
        },
        "id": "abr_x8Ov0ylh",
        "outputId": "fc011405-4c61-495a-ef22-9e77bf133e97"
      },
      "execution_count": 10,
      "outputs": [
        {
          "output_type": "stream",
          "name": "stdout",
          "text": [
            "[2, 3, 4]\n"
          ]
        }
      ]
    },
    {
      "cell_type": "code",
      "source": [
        "mi_tupla =(10,20,30)\n",
        "print(mi_tupla)"
      ],
      "metadata": {
        "colab": {
          "base_uri": "https://localhost:8080/"
        },
        "id": "lEXuFp8u1bGH",
        "outputId": "f4113919-856c-4644-9a0b-918901b91595"
      },
      "execution_count": 11,
      "outputs": [
        {
          "output_type": "stream",
          "name": "stdout",
          "text": [
            "(10, 20, 30)\n"
          ]
        }
      ]
    },
    {
      "cell_type": "code",
      "source": [
        "datos_personales = (\"maria\", \"perez\",35 ,\"ingeniera\")\n",
        "nombre=datos_personales[0]\n",
        "profesion = datos_personales[3]\n",
        "print(f\"{nombre} es {profesion}\")"
      ],
      "metadata": {
        "colab": {
          "base_uri": "https://localhost:8080/"
        },
        "id": "XVUXKLN31bD-",
        "outputId": "88b9dac4-9f58-4a2c-de80-1bf0c7b3b1b8"
      },
      "execution_count": 12,
      "outputs": [
        {
          "output_type": "stream",
          "name": "stdout",
          "text": [
            "maria es ingeniera\n"
          ]
        }
      ]
    },
    {
      "cell_type": "code",
      "source": [
        "info_ciudades = ((\"buenos aires\",3000000, \"argentina\"),\n",
        "                 (\"madrid\",3200000, \"españa\"),\n",
        "                 (\"tokio\", 13939451, \"japon\"))\n",
        "nombre1=info_ciudades[0][0]\n",
        "poblacion1=info_ciudades[0][1]\n",
        "pais1=info_ciudades[0][2]\n",
        "print(f\"la cuidad de {nombre1}, en {pais1} tien una poblacion de {poblacion1}\")\n",
        "nombre2 = info_ciudades[1][0]\n",
        "poblacion2 = info_ciudades[1][1]\n",
        "pais2 = info_ciudades[1][2]\n",
        "print(f\"La ciudad de {nombre2} en {pais2} tiene una población de {poblacion2} habitantes\")\n",
        "\n",
        "nombre3 = info_ciudades[2][0]\n",
        "poblacion3 = info_ciudades[2][1]\n",
        "pais3 = info_ciudades[2][2]\n",
        "print(f\"La ciudad de {nombre3} en {pais3} tiene una población de {poblacion3} habitantes\")"
      ],
      "metadata": {
        "colab": {
          "base_uri": "https://localhost:8080/"
        },
        "id": "g0TZLyTO1bBM",
        "outputId": "3bbd9ffc-c9b9-4b02-d739-fa65d37e7f19"
      },
      "execution_count": 15,
      "outputs": [
        {
          "output_type": "stream",
          "name": "stdout",
          "text": [
            "la cuidad de buenos aires, en argentina tien una poblacion de 3000000\n",
            "La ciudad de madrid en españa tiene una población de 3200000 habitantes\n",
            "La ciudad de tokio en japon tiene una población de 13939451 habitantes\n"
          ]
        }
      ]
    },
    {
      "cell_type": "code",
      "source": [
        "mi_diccionario={\"manzana\":\"verde\",\n",
        "                \"banana\":\"amarilla\",\n",
        "                \"pera\":\"celeste\"}\n",
        "print(mi_diccionario)"
      ],
      "metadata": {
        "colab": {
          "base_uri": "https://localhost:8080/"
        },
        "id": "CT9BF2Ch1a7s",
        "outputId": "d64295f0-c348-4afb-9138-18635a35c3d3"
      },
      "execution_count": 16,
      "outputs": [
        {
          "output_type": "stream",
          "name": "stdout",
          "text": [
            "{'manzana': 'verde', 'banana': 'amarilla', 'pera': 'celeste'}\n"
          ]
        }
      ]
    },
    {
      "cell_type": "code",
      "source": [
        "edades={\"juan\":28, \"elena\":35, \"marcos\":17}\n",
        "print(edades[\"elena\"])\n",
        "print(edades[\"juan\"])\n",
        "print(edades[\"marcos\"])"
      ],
      "metadata": {
        "colab": {
          "base_uri": "https://localhost:8080/"
        },
        "id": "U3q-ZFKN1a2x",
        "outputId": "47b6f580-5517-42cc-98a9-c7a626d7c877"
      },
      "execution_count": 18,
      "outputs": [
        {
          "output_type": "stream",
          "name": "stdout",
          "text": [
            "35\n",
            "28\n",
            "17\n"
          ]
        }
      ]
    },
    {
      "cell_type": "code",
      "source": [
        "productos = {\"manzana\":0.40, \"banana\":0.5,\"cereza\":0.80}\n",
        "claves =productos.keys()\n",
        "print(claves)\n",
        "valores =productos.values()\n",
        "print(valores)\n",
        "productos[\"cereza\"]=0.60\n",
        "print(productos)\n",
        "print(productos.keys(), productos.values())"
      ],
      "metadata": {
        "colab": {
          "base_uri": "https://localhost:8080/"
        },
        "id": "kGi-WvQs1a0J",
        "outputId": "11638d54-e506-45b5-820c-b8956d37e646"
      },
      "execution_count": 22,
      "outputs": [
        {
          "output_type": "stream",
          "name": "stdout",
          "text": [
            "dict_keys(['manzana', 'banana', 'cereza'])\n",
            "dict_values([0.4, 0.5, 0.8])\n",
            "{'manzana': 0.4, 'banana': 0.5, 'cereza': 0.6}\n",
            "dict_keys(['manzana', 'banana', 'cereza']) dict_values([0.4, 0.5, 0.6])\n"
          ]
        }
      ]
    },
    {
      "cell_type": "code",
      "source": [
        "num1=9\n",
        "num2=3\n",
        "resultado = num1 > num2\n",
        "print(resultado)"
      ],
      "metadata": {
        "colab": {
          "base_uri": "https://localhost:8080/"
        },
        "id": "1JbTdan71aoq",
        "outputId": "4c37c1ee-1e68-48cc-977b-066aa1c4c6a7"
      },
      "execution_count": 23,
      "outputs": [
        {
          "output_type": "stream",
          "name": "stdout",
          "text": [
            "True\n"
          ]
        }
      ]
    },
    {
      "cell_type": "code",
      "source": [
        "con1=True\n",
        "con2=False\n",
        "con3=True\n",
        "resultado=(con1 and con3)or con2\n",
        "print(resultado)"
      ],
      "metadata": {
        "colab": {
          "base_uri": "https://localhost:8080/"
        },
        "id": "VqC8TPrLARmr",
        "outputId": "d1d821c2-3a4c-4b6c-86ef-65b875edb683"
      },
      "execution_count": 25,
      "outputs": [
        {
          "output_type": "stream",
          "name": "stdout",
          "text": [
            "True\n"
          ]
        }
      ]
    },
    {
      "cell_type": "code",
      "source": [
        "a=5\n",
        "b=3\n",
        "c=8\n",
        "print(a>b and b<c)"
      ],
      "metadata": {
        "colab": {
          "base_uri": "https://localhost:8080/"
        },
        "id": "0J-rQwp2ARkH",
        "outputId": "c0519b3a-0ad2-478a-d198-702c277a9a79"
      },
      "execution_count": 26,
      "outputs": [
        {
          "output_type": "stream",
          "name": "stdout",
          "text": [
            "True\n"
          ]
        }
      ]
    },
    {
      "cell_type": "code",
      "source": [
        "edad=20\n",
        "if edad > 18:\n",
        "  print(f\"tienes {edad} años eres mayor de edad\")"
      ],
      "metadata": {
        "colab": {
          "base_uri": "https://localhost:8080/"
        },
        "id": "zSMIha2KARhp",
        "outputId": "f440325a-9bba-4c86-efa5-b5068dd9ef78"
      },
      "execution_count": 27,
      "outputs": [
        {
          "output_type": "stream",
          "name": "stdout",
          "text": [
            "tienes 20 años eres mayor de edad\n"
          ]
        }
      ]
    },
    {
      "cell_type": "code",
      "source": [
        "usuario=\"admin\"\n",
        "passw=\"abc123\"\n",
        "if usuario == \"admin\" and passw == \"abc123\":\n",
        "  print(\"acceso autorizado\")"
      ],
      "metadata": {
        "colab": {
          "base_uri": "https://localhost:8080/"
        },
        "id": "IFJ2uhCpARe8",
        "outputId": "e39add4a-d91f-43f2-d96d-58fb41f2db31"
      },
      "execution_count": 28,
      "outputs": [
        {
          "output_type": "stream",
          "name": "stdout",
          "text": [
            "acceso autorizado\n"
          ]
        }
      ]
    },
    {
      "cell_type": "code",
      "source": [
        "amigos = [\"juan\",\"ana\", \"laura\"]\n",
        "nombre=\"juan\"\n",
        "if nombre in amigos:\n",
        "  print(nombre + \" esta en mi grupo\")"
      ],
      "metadata": {
        "colab": {
          "base_uri": "https://localhost:8080/"
        },
        "id": "7CjX-RSoARaF",
        "outputId": "6c765bb1-0dcb-4c98-a407-9603c413234b"
      },
      "execution_count": 30,
      "outputs": [
        {
          "output_type": "stream",
          "name": "stdout",
          "text": [
            "juan esta en mi grupo\n"
          ]
        }
      ]
    },
    {
      "cell_type": "code",
      "source": [
        "edad=17\n",
        "if edad >=18:\n",
        "  print(f\"tienes {edad} eres mayor\")\n",
        "else:\n",
        "  print(f\"tienes {edad} eres menor\")"
      ],
      "metadata": {
        "colab": {
          "base_uri": "https://localhost:8080/"
        },
        "id": "3CHBscjAAQm0",
        "outputId": "c36610c0-0fb8-4449-f85f-e90bbfafe7ce"
      },
      "execution_count": 31,
      "outputs": [
        {
          "output_type": "stream",
          "name": "stdout",
          "text": [
            "tienes 17 eres menor\n"
          ]
        }
      ]
    },
    {
      "cell_type": "code",
      "source": [
        "nota = 10\n",
        "if nota >10:\n",
        "  print(\"no valida\")\n",
        "elif nota >=9:\n",
        "  print(\"excelente\")\n",
        "elif nota >=7:\n",
        "  print(\"notable\")\n",
        "elif nota >=5:\n",
        "  print(\"aprobado\")\n",
        "else:\n",
        "  print(\"desaprobado\")"
      ],
      "metadata": {
        "colab": {
          "base_uri": "https://localhost:8080/"
        },
        "id": "6s6ZOKfnCNnD",
        "outputId": "06c56bff-37ad-4b19-b8db-e1515c5a8fc7"
      },
      "execution_count": 32,
      "outputs": [
        {
          "output_type": "stream",
          "name": "stdout",
          "text": [
            "excelente\n"
          ]
        }
      ]
    },
    {
      "cell_type": "code",
      "source": [
        "agenda={}\n",
        "print(\"agenda de contactos\")\n",
        "print(\"--------------------\")\n",
        "print(\"1.añadir contacto\")\n",
        "print(\"2.buscar contacto\")\n",
        "print(\"3.editar contacto\")\n",
        "print(\"4.eliminar contacto\")\n",
        "print(\"5.mostrar contacto\")\n",
        "\n",
        "eleccion = input(\"elige una opcion del menu: \")\n",
        "if eleccion == \"1\":\n",
        "  nombre=input(\"nombre de contacto: \")\n",
        "  celular=input(\"ingrese el nro de celular: \")\n",
        "  agenda[nombre]=celular\n",
        "  print(\"el contacto fue agregado\")\n",
        "elif eleccion == \"2\":\n",
        "  nombre=input(\"nombre de contacto: \")\n",
        "  if nombre in agenda:\n",
        "    print(f\"el celular es {nombre} es {agenda[nombre]}\")\n",
        "  else:\n",
        "    print(\"ese contacto no existe\")\n",
        "elif eleccion == \"3\":\n",
        "  nombre=input(\"nombre de contacto: \")\n",
        "  if nombre in agenda:\n",
        "    nuevo_numero=input(\"ingrese el nuevo numero: \")\n",
        "    agenda[nombre]=nuevo_numero\n",
        "    print(f\"el nuevo cel de {nombre} es {agenda[nombre]}\")\n",
        "  else:\n",
        "    print(\"ese contacto no existe\")\n",
        "\n",
        "elif eleccion == \"4\":\n",
        "  nombre=input(\"nombre de contacto: \")\n",
        "  if nombre in agenda:\n",
        "    agenda.pop(nombre)\n",
        "    print(\"el contacto fue eliminado\")\n",
        "  else:\n",
        "    print(\"ese contacto no existe\")\n",
        "elif eleccion == \"5\":\n",
        "  print(agenda)\n",
        "else:\n",
        "  print(\"opcion invalida\")\n"
      ],
      "metadata": {
        "colab": {
          "base_uri": "https://localhost:8080/"
        },
        "id": "vL7JLaU0CzxF",
        "outputId": "f73202fd-b433-4639-996c-191d3535fc87"
      },
      "execution_count": 40,
      "outputs": [
        {
          "output_type": "stream",
          "name": "stdout",
          "text": [
            "agenda de contactos\n",
            "--------------------\n",
            "1.añadir contacto\n",
            "2.buscar contacto\n",
            "3.editar contacto\n",
            "4.eliminar contacto\n",
            "5.mostrar contacto\n",
            "elige una opcion del menu: 2\n",
            "nombre de contacto: marco\n",
            "ese contacto no existe\n"
          ]
        }
      ]
    },
    {
      "cell_type": "code",
      "source": [],
      "metadata": {
        "id": "Kh5hwNlbEcAe"
      },
      "execution_count": null,
      "outputs": []
    },
    {
      "cell_type": "code",
      "source": [],
      "metadata": {
        "id": "UIpyMYVACzu1"
      },
      "execution_count": null,
      "outputs": []
    },
    {
      "cell_type": "code",
      "source": [],
      "metadata": {
        "id": "cHXhdYqXCzsd"
      },
      "execution_count": null,
      "outputs": []
    },
    {
      "cell_type": "code",
      "source": [],
      "metadata": {
        "id": "g9tdsSLFCzqL"
      },
      "execution_count": null,
      "outputs": []
    },
    {
      "cell_type": "code",
      "source": [],
      "metadata": {
        "id": "z970bT64Cznd"
      },
      "execution_count": null,
      "outputs": []
    },
    {
      "cell_type": "code",
      "source": [],
      "metadata": {
        "id": "qmMsoHr9Czkr"
      },
      "execution_count": null,
      "outputs": []
    },
    {
      "cell_type": "code",
      "source": [],
      "metadata": {
        "id": "urxZM0c7CzYS"
      },
      "execution_count": null,
      "outputs": []
    }
  ]
}