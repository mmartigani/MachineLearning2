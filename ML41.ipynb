{
  "nbformat": 4,
  "nbformat_minor": 0,
  "metadata": {
    "colab": {
      "provenance": [],
      "authorship_tag": "ABX9TyOfeO2CvXJGk3zG9Jq9b/aM",
      "include_colab_link": true
    },
    "kernelspec": {
      "name": "python3",
      "display_name": "Python 3"
    },
    "language_info": {
      "name": "python"
    }
  },
  "cells": [
    {
      "cell_type": "markdown",
      "metadata": {
        "id": "view-in-github",
        "colab_type": "text"
      },
      "source": [
        "<a href=\"https://colab.research.google.com/github/mmartigani/MachineLearning2/blob/main/ML41.ipynb\" target=\"_parent\"><img src=\"https://colab.research.google.com/assets/colab-badge.svg\" alt=\"Open In Colab\"/></a>"
      ]
    },
    {
      "cell_type": "code",
      "execution_count": 7,
      "metadata": {
        "id": "yeBd7soeGfze"
      },
      "outputs": [],
      "source": [
        "import pandas as pd\n",
        "import hashlib\n",
        "import random\n",
        "import uuid\n",
        "import time\n",
        "import numpy as np\n",
        "import matplotlib.pyplot as plt\n",
        "%matplotlib inline\n",
        "import seaborn as sns\n",
        "from sklearn.linear_model import LinearRegression\n",
        "from sklearn.linear_model import LogisticRegression\n",
        "from sklearn.model_selection import train_test_split\n",
        "from sklearn.preprocessing import LabelEncoder\n",
        "from sklearn.tree import DecisionTreeClassifier, plot_tree\n",
        "from sklearn.preprocessing import MinMaxScaler\n",
        "from sklearn.ensemble import RandomForestClassifier\n",
        "from sklearn.tree import DecisionTreeRegressor\n",
        "from sklearn.ensemble import RandomForestRegressor\n",
        "from sklearn.preprocessing import StandardScaler, OneHotEncoder\n",
        "from sklearn.model_selection import GridSearchCV\n",
        "from sklearn.cluster import KMeans\n",
        "from sklearn.decomposition import PCA\n",
        "from sklearn.pipeline import Pipeline\n",
        "from sklearn.datasets import load_iris\n",
        "from sklearn.datasets import load_digits\n",
        "from sklearn.utils import resample\n",
        "from sklearn.model_selection import cross_val_score\n",
        "from sklearn.feature_selection import SelectKBest, SelectFromModel, chi2, f_classif\n",
        "from tensorflow.keras.layers import Input, Dense\n",
        "from tensorflow.keras.models import Model\n",
        "import tensorflow as tf\n",
        "from scipy.cluster.hierarchy import dendrogram , linkage\n",
        "from keras.datasets import mnist\n",
        "from keras.models import Sequential\n",
        "from keras.layers import Dense, Flatten\n",
        "from keras.utils import to_categorical\n",
        "from sklearn.datasets import load_diabetes\n",
        "from sklearn import datasets"
      ]
    },
    {
      "cell_type": "code",
      "source": [
        "diabetes = load_diabetes()\n",
        "diabetes_df=pd.DataFrame(data=np.c_[diabetes['data'],diabetes['target']],\n",
        "                         columns=diabetes['feature_names']+['target'])\n",
        "diabetes_df['target']= (diabetes_df['target'] > diabetes_df['target'].median()).astype(int)\n",
        "\n",
        "x=diabetes_df.drop('target', axis=1)\n",
        "y=diabetes_df['target']\n",
        "x_entrena , x_prueba, y_entrena, y_prueba = train_test_split(x, y, test_size=0.2, random_state=42)\n",
        "selector=SelectKBest(score_func=f_classif, k=4)\n",
        "x_entrena_sel=selector.fit_transform(x_entrena, y_entrena)\n",
        "x_prueba_sel = selector.transform(x_prueba)\n",
        "pipeline = Pipeline([\n",
        "    ('scaler', StandardScaler()),\n",
        "    ('classifier', RandomForestClassifier(n_estimators=100, random_state=42))\n",
        "])\n",
        "pipeline.fit(x_entrena_sel, y_entrena)\n",
        "\n",
        "predicciones = pipeline.predict(x_prueba_sel)\n",
        "\n",
        "puntaje = pipeline.score(x_prueba_sel, y_prueba)\n",
        "print(f\"precision del modelo: {puntaje:.2f}\")\n",
        "\n",
        "puntaje_validacion_cruzada = cross_val_score(pipeline,selector.transform(x), y, cv=5)\n",
        "print(f\"Puntajes de validacion cruzada: {puntaje_validacion_cruzada}\")\n",
        "print(f\"Puntaje de promedio de validacion cruzada: {np.mean(puntaje_validacion_cruzada):.2f}\")"
      ],
      "metadata": {
        "colab": {
          "base_uri": "https://localhost:8080/"
        },
        "id": "-VgreaMcK33J",
        "outputId": "fa75e32b-457e-4b97-b2db-46b628d65494"
      },
      "execution_count": 10,
      "outputs": [
        {
          "output_type": "stream",
          "name": "stdout",
          "text": [
            "precision del modelo: 0.74\n",
            "Puntajes de validacion cruzada: [0.69662921 0.74157303 0.67045455 0.61363636 0.68181818]\n",
            "Puntaje de promedio de validacion cruzada: 0.68\n"
          ]
        }
      ]
    }
  ]
}