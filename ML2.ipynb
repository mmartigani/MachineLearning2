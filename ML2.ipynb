{
  "nbformat": 4,
  "nbformat_minor": 0,
  "metadata": {
    "colab": {
      "provenance": [],
      "authorship_tag": "ABX9TyORvVmBsvsRx4GZSABqDldj",
      "include_colab_link": true
    },
    "kernelspec": {
      "name": "python3",
      "display_name": "Python 3"
    },
    "language_info": {
      "name": "python"
    }
  },
  "cells": [
    {
      "cell_type": "markdown",
      "metadata": {
        "id": "view-in-github",
        "colab_type": "text"
      },
      "source": [
        "<a href=\"https://colab.research.google.com/github/mmartigani/MachineLearning2/blob/main/ML2.ipynb\" target=\"_parent\"><img src=\"https://colab.research.google.com/assets/colab-badge.svg\" alt=\"Open In Colab\"/></a>"
      ]
    },
    {
      "cell_type": "code",
      "execution_count": null,
      "metadata": {
        "colab": {
          "base_uri": "https://localhost:8080/"
        },
        "id": "x6lvoi5feGPi",
        "outputId": "ce7bdc16-f9d3-495f-d1bd-1b26917eb4c3"
      },
      "outputs": [
        {
          "name": "stdout",
          "output_type": "stream",
          "text": [
            "ingresa un texto de al menos 10 palabras: curso para data science con python y machine leaning\n"
          ]
        }
      ],
      "source": [
        "texto=input(\"ingresa un texto de al menos 10 palabras: \")"
      ]
    },
    {
      "cell_type": "code",
      "source": [
        "num_car=len(texto)\n",
        "num_car"
      ],
      "metadata": {
        "colab": {
          "base_uri": "https://localhost:8080/"
        },
        "id": "FXgPPbf8ejYJ",
        "outputId": "9350e694-fd4b-4576-a902-fe382a135acc"
      },
      "execution_count": null,
      "outputs": [
        {
          "output_type": "execute_result",
          "data": {
            "text/plain": [
              "52"
            ]
          },
          "metadata": {},
          "execution_count": 4
        }
      ]
    },
    {
      "cell_type": "code",
      "source": [
        "num_espacios = texto.count(\" \")\n",
        "num_sin_espacios = num_car - num_espacios\n",
        "num_sin_espacios"
      ],
      "metadata": {
        "colab": {
          "base_uri": "https://localhost:8080/"
        },
        "id": "523d50ZyejVQ",
        "outputId": "fbc090ab-2826-4d12-fe3f-c7965d878c2f"
      },
      "execution_count": null,
      "outputs": [
        {
          "output_type": "execute_result",
          "data": {
            "text/plain": [
              "44"
            ]
          },
          "metadata": {},
          "execution_count": 5
        }
      ]
    },
    {
      "cell_type": "code",
      "source": [
        "num_a=texto.count(\"a\")\n",
        "num_e=texto.count(\"e\")\n",
        "num_i=texto.count(\"i\")\n",
        "num_o=texto.count(\"o\")\n",
        "num_u=texto.count(\"u\")\n",
        "nu_vocales = num_a + num_e + num_i + num_o + num_u\n",
        "nu_vocales"
      ],
      "metadata": {
        "colab": {
          "base_uri": "https://localhost:8080/"
        },
        "id": "RzX0ShQIejSJ",
        "outputId": "9aee2073-bd80-4a3a-cb22-3b1115a0a6e9"
      },
      "execution_count": null,
      "outputs": [
        {
          "output_type": "execute_result",
          "data": {
            "text/plain": [
              "17"
            ]
          },
          "metadata": {},
          "execution_count": 6
        }
      ]
    },
    {
      "cell_type": "code",
      "source": [
        "num_palabras = num_espacios + 1\n",
        "num_palabras"
      ],
      "metadata": {
        "colab": {
          "base_uri": "https://localhost:8080/"
        },
        "id": "URg1jvoqejOq",
        "outputId": "4ee14bea-6274-43af-b647-38c0f910372a"
      },
      "execution_count": null,
      "outputs": [
        {
          "output_type": "execute_result",
          "data": {
            "text/plain": [
              "9"
            ]
          },
          "metadata": {},
          "execution_count": 7
        }
      ]
    },
    {
      "cell_type": "code",
      "source": [
        "primer_espacio=texto.find(\" \")\n",
        "sin_primera_palabra = texto[primer_espacio +1:]\n",
        "sin_primera_palabra"
      ],
      "metadata": {
        "colab": {
          "base_uri": "https://localhost:8080/",
          "height": 35
        },
        "id": "81mRgCXxgMxF",
        "outputId": "13f66d4d-496c-4e95-bdee-780a3b4054b3"
      },
      "execution_count": null,
      "outputs": [
        {
          "output_type": "execute_result",
          "data": {
            "text/plain": [
              "'para data science con python y machine leaning'"
            ],
            "application/vnd.google.colaboratory.intrinsic+json": {
              "type": "string"
            }
          },
          "metadata": {},
          "execution_count": 8
        }
      ]
    },
    {
      "cell_type": "code",
      "source": [
        "guiones = texto.replace(\" \", \"-\")\n",
        "guiones"
      ],
      "metadata": {
        "colab": {
          "base_uri": "https://localhost:8080/",
          "height": 35
        },
        "id": "9fv_wu8hhCfY",
        "outputId": "b8b74851-dd9b-4492-b938-25f2f28267c9"
      },
      "execution_count": null,
      "outputs": [
        {
          "output_type": "execute_result",
          "data": {
            "text/plain": [
              "'curso-para-data-science-con-python-y-machine-leaning'"
            ],
            "application/vnd.google.colaboratory.intrinsic+json": {
              "type": "string"
            }
          },
          "metadata": {},
          "execution_count": 10
        }
      ]
    },
    {
      "cell_type": "code",
      "source": [
        "vice = texto.swapcase()\n",
        "vice"
      ],
      "metadata": {
        "colab": {
          "base_uri": "https://localhost:8080/",
          "height": 35
        },
        "id": "XmnGFhPOhQYV",
        "outputId": "972b3f1c-9d19-4e51-cc67-30c0940be08f"
      },
      "execution_count": null,
      "outputs": [
        {
          "output_type": "execute_result",
          "data": {
            "text/plain": [
              "'CURSO PARA DATA SCIENCE CON PYTHON Y MACHINE LEANING'"
            ],
            "application/vnd.google.colaboratory.intrinsic+json": {
              "type": "string"
            }
          },
          "metadata": {},
          "execution_count": 11
        }
      ]
    },
    {
      "cell_type": "code",
      "source": [
        "print(f\"el nro de caracteres es {num_car}\")\n",
        "print(f\"sin contar los espacios {num_sin_espacios}\")\n",
        "print(f\"hay tambien vocales {nu_vocales}\")\n",
        "print(f\"nro total de palabras {num_palabras}\")\n",
        "print(f\"eliminando la primera palabra: {sin_primera_palabra}\")\n",
        "print(f\"reemplazamos espacios por giones: {guiones}\")\n",
        "print(f\"cambio mayusculas por minisculas: {vice}\")"
      ],
      "metadata": {
        "colab": {
          "base_uri": "https://localhost:8080/"
        },
        "id": "Hph7v9TihQVt",
        "outputId": "cfa13083-0763-4a12-a7ac-d365c486571d"
      },
      "execution_count": null,
      "outputs": [
        {
          "output_type": "stream",
          "name": "stdout",
          "text": [
            "el nro de caracteres es 52\n",
            "sin contar los espacios 44\n",
            "hay tambien vocales 17\n",
            "nro total de palabras 9\n",
            "eliminando la primera palabra: para data science con python y machine leaning\n",
            "reemplazamos espacios por giones: curso-para-data-science-con-python-y-machine-leaning\n",
            "cambio mayusculas por minisculas: CURSO PARA DATA SCIENCE CON PYTHON Y MACHINE LEANING\n"
          ]
        }
      ]
    },
    {
      "cell_type": "code",
      "source": [],
      "metadata": {
        "id": "7btWmKtPhQTI"
      },
      "execution_count": null,
      "outputs": []
    },
    {
      "cell_type": "code",
      "source": [],
      "metadata": {
        "id": "ox_cVzGlhQQC"
      },
      "execution_count": null,
      "outputs": []
    },
    {
      "cell_type": "code",
      "source": [],
      "metadata": {
        "id": "VRYIA2JXhQJ-"
      },
      "execution_count": null,
      "outputs": []
    },
    {
      "cell_type": "code",
      "source": [],
      "metadata": {
        "id": "ypY6VWQChQE0"
      },
      "execution_count": null,
      "outputs": []
    },
    {
      "cell_type": "code",
      "source": [],
      "metadata": {
        "id": "PR4iG6dEhQBg"
      },
      "execution_count": null,
      "outputs": []
    }
  ]
}